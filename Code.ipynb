{
 "cells": [
  {
   "cell_type": "markdown",
   "id": "968f745b",
   "metadata": {},
   "source": [
    "CS533/543 Reinforcement Learning Lab Assignment 4"
   ]
  },
  {
   "cell_type": "markdown",
   "id": "31ab6556",
   "metadata": {},
   "source": [
    "Gopesh Gaba 2020MCB1236,\n",
    "Gautam Bansal 2020MCB1235"
   ]
  },
  {
   "cell_type": "markdown",
   "id": "74888c8c",
   "metadata": {},
   "source": [
    "1"
   ]
  },
  {
   "cell_type": "code",
   "execution_count": 1,
   "id": "8c790288",
   "metadata": {},
   "outputs": [],
   "source": [
    "import json\n",
    "import numpy as np\n",
    "import matplotlib.pyplot as plt\n",
    "import math\n",
    "from ray.rllib.algorithms.ppo import PPOConfig"
   ]
  },
  {
   "cell_type": "markdown",
   "id": "4d997734",
   "metadata": {},
   "source": [
    "We run the algorithm for different-different parameters and then compare their exponentially smoothened reward curves, to obtain a set of good hyper-paramters."
   ]
  },
  {
   "cell_type": "markdown",
   "id": "dd16bdc1",
   "metadata": {},
   "source": [
    "Ant-v4"
   ]
  },
  {
   "cell_type": "code",
   "execution_count": null,
   "id": "d9068d91",
   "metadata": {},
   "outputs": [],
   "source": [
    "lrs = [1e-6,1e-5,5e-5,1e-4,1e-3]\n",
    "\n",
    "for lr in lrs:\n",
    "    config = (\n",
    "        PPOConfig()\n",
    "        .environment(\"Ant-v4\")\n",
    "    )\n",
    "    config[\"lr\"] = lr\n",
    "    \n",
    "    algo = config.build()\n",
    "    \n",
    "    for i in range(250):\n",
    "        algo.train()\n",
    "    path_to_checkpoint = algo.save()\n",
    "    algo.stop()"
   ]
  },
  {
   "cell_type": "code",
   "execution_count": 9,
   "id": "ab458e2a",
   "metadata": {},
   "outputs": [],
   "source": [
    "PathList_lr = []\n",
    "PathList_lr.append(r'C:\\Users\\gabag\\ray_results\\default\\PPO_Ant-v4_3e016_00000_0_2023-04-27_12-23-40\\result.json')\n",
    "PathList_lr.append(r'C:\\Users\\gabag\\ray_results\\default\\PPO_Ant-v4_93886_00000_0_2023-04-27_12-26-03\\result.json')\n",
    "PathList_lr.append(r'C:\\Users\\gabag\\ray_results\\default\\PPO_Ant-v4_0813e_00000_0_2023-04-27_13-26-35\\result.json')\n",
    "PathList_lr.append(r'C:\\Users\\gabag\\ray_results\\default\\PPO_Ant-v4_12a6c_00000_0_2023-04-27_13-26-53\\result.json')\n",
    "PathList_lr.append(r'C:\\Users\\gabag\\ray_results\\default\\PPO_Ant-v4_ee4fe_00000_0_2023-04-23_15-32-18\\result.json')"
   ]
  },
  {
   "cell_type": "code",
   "execution_count": 10,
   "id": "4e4c5eb0",
   "metadata": {},
   "outputs": [],
   "source": [
    "lrs = []\n",
    "Xs = []\n",
    "Ys = []\n",
    "\n",
    "for path in PathList_lr:\n",
    "    with open(path) as f:\n",
    "        for jsonObj in f:\n",
    "            Dict = json.loads(jsonObj)\n",
    "            lrs.append(Dict['config']['lr'])\n",
    "            break\n",
    "    x = []\n",
    "    y = []\n",
    "    ym = []\n",
    "    ym.append(0)\n",
    "    x.append(0)\n",
    "    with open(path) as f:\n",
    "        i = 0\n",
    "        for jsonObj in f:\n",
    "            Dict = json.loads(jsonObj)\n",
    "            x.append(Dict['timesteps_total'])\n",
    "            y.append(Dict['episode_reward_mean'])\n",
    "            ym.append(0.01*y[i]+0.99*ym[i])\n",
    "            i+=1\n",
    "    Xs.append(x)\n",
    "    Ys.append(ym)"
   ]
  },
  {
   "cell_type": "code",
   "execution_count": 11,
   "id": "8bcaac56",
   "metadata": {},
   "outputs": [
    {
     "data": {
      "image/png": "[encoded data removed]",
      "text/plain": [
       "<Figure size 432x288 with 1 Axes>"
      ]
     },
     "metadata": {
      "needs_background": "light"
     },
     "output_type": "display_data"
    }
   ],
   "source": [
    "for i in range(len(lrs)):\n",
    "    plt.plot(Xs[i],Ys[i],label = str(lrs[i]))\n",
    "plt.legend()\n",
    "plt.xlabel('Timesteps Total')\n",
    "plt.ylabel('Exponentially Smoothened Reward')\n",
    "plt.show()"
   ]
  },
  {
   "cell_type": "markdown",
   "id": "74920646",
   "metadata": {},
   "source": [
    "As we can see from the above plt that PPO for env Ant-v4 performs the best for lr = 1e-5"
   ]
  },
  {
   "cell_type": "code",
   "execution_count": null,
   "id": "33d25a32",
   "metadata": {},
   "outputs": [],
   "source": [
    "gammas = [0.95,0.9,0.8,0.6]\n",
    "\n",
    "for gamma in gammas:\n",
    "    config = (\n",
    "        PPOConfig()\n",
    "        .environment(\"Ant-v4\")\n",
    "    )\n",
    "    config[\"lr\"] = 1e-5\n",
    "    config[\"gamma\"] = gamma\n",
    "    \n",
    "    algo = config.build()\n",
    "    \n",
    "    for i in range(250):\n",
    "        algo.train()\n",
    "    path_to_checkpoint = algo.save()\n",
    "    algo.stop()"
   ]
  },
  {
   "cell_type": "code",
   "execution_count": 12,
   "id": "23aca322",
   "metadata": {},
   "outputs": [],
   "source": [
    "PathList_gamma = []\n",
    "PathList_gamma.append(r'C:\\Users\\gabag\\ray_results\\default\\PPO_Ant-v4_4d362_00000_0_2023-04-27_14-40-06\\result.json')\n",
    "PathList_gamma.append(r'C:\\Users\\gabag\\ray_results\\default\\PPO_Ant-v4_4a27f_00000_0_2023-04-27_14-40-01\\result.json')\n",
    "PathList_gamma.append(r'C:\\Users\\gabag\\ray_results\\default\\PPO_Ant-v4_128c6_00000_0_2023-04-27_14-09-49\\result.json')\n",
    "PathList_gamma.append(r'C:\\Users\\gabag\\ray_results\\default\\PPO_Ant-v4_f0357_00000_0_2023-04-27_14-08-52\\result.json')\n",
    "PathList_gamma.append(r'C:\\Users\\gabag\\ray_results\\default\\PPO_Ant-v4_0813e_00000_0_2023-04-27_13-26-35\\result.json')"
   ]
  },
  {
   "cell_type": "code",
   "execution_count": 13,
   "id": "1020c28a",
   "metadata": {},
   "outputs": [
    {
     "name": "stdout",
     "output_type": "stream",
     "text": [
      "1e-05\n",
      "1e-05\n",
      "1e-05\n",
      "1e-05\n",
      "1e-05\n"
     ]
    }
   ],
   "source": [
    "gammas = []\n",
    "Xs = []\n",
    "Ys = []\n",
    "\n",
    "for path in PathList_gamma:\n",
    "    with open(path) as f:\n",
    "        for jsonObj in f:\n",
    "            Dict = json.loads(jsonObj)\n",
    "            print(Dict['config']['lr'])\n",
    "            gammas.append(Dict['config']['gamma'])\n",
    "            break\n",
    "            \n",
    "    x = []\n",
    "    y = []\n",
    "    ym = []\n",
    "    ym.append(0)\n",
    "    x.append(0)\n",
    "    with open(path) as f:\n",
    "        i = 0\n",
    "        for jsonObj in f:\n",
    "            Dict = json.loads(jsonObj)\n",
    "            x.append(Dict['timesteps_total'])\n",
    "            y.append(Dict['episode_reward_mean'])\n",
    "            ym.append(0.01*y[i]+0.99*ym[i])\n",
    "            i+=1\n",
    "    Xs.append(x)\n",
    "    Ys.append(ym)"
   ]
  },
  {
   "cell_type": "code",
   "execution_count": 14,
   "id": "0cc437d5",
   "metadata": {},
   "outputs": [
    {
     "data": {
      "image/png": "[encoded data removed]",
      "text/plain": [
       "<Figure size 432x288 with 1 Axes>"
      ]
     },
     "metadata": {
      "needs_background": "light"
     },
     "output_type": "display_data"
    }
   ],
   "source": [
    "for i in range(len(gammas)):\n",
    "    plt.plot(Xs[i],Ys[i],label = str(gammas[i]))\n",
    "plt.legend()\n",
    "plt.xlabel('Timesteps Total')\n",
    "plt.ylabel('Exponentially Smoothened Reward')\n",
    "plt.show()"
   ]
  },
  {
   "cell_type": "markdown",
   "id": "3ace2afb",
   "metadata": {},
   "source": [
    "As we can see from the above graph that the best gamma for learning rate = 1e-5 is 0.9"
   ]
  },
  {
   "cell_type": "code",
   "execution_count": null,
   "id": "292c5f29",
   "metadata": {},
   "outputs": [],
   "source": [
    "config = (\n",
    "    PPOConfig()\n",
    "    .environment(\"Ant-v4\")\n",
    ")\n",
    "config[\"lr\"] = 1e-5\n",
    "config[\"gamma\"] = 0.9\n",
    "\n",
    "algo = config.build()\n",
    "\n",
    "for i in range(2500):\n",
    "    algo.train()\n",
    "path_to_checkpoint = algo.save()\n",
    "algo.stop()"
   ]
  },
  {
   "cell_type": "code",
   "execution_count": 15,
   "id": "8807d669",
   "metadata": {},
   "outputs": [
    {
     "name": "stdout",
     "output_type": "stream",
     "text": [
      "1e-05\n",
      "0.9\n"
     ]
    },
    {
     "data": {
      "image/png": "[encoded data removed]",
      "text/plain": [
       "<Figure size 432x288 with 1 Axes>"
      ]
     },
     "metadata": {
      "needs_background": "light"
     },
     "output_type": "display_data"
    }
   ],
   "source": [
    "path = r'C:\\Users\\gabag\\ray_results\\default\\PPO_Ant-v4_1b671_00000_0_2023-04-27_17-44-49\\result.json'\n",
    "\n",
    "with open(path) as f:\n",
    "    for jsonObj in f:\n",
    "        Dict = json.loads(jsonObj)\n",
    "        print(Dict['config']['lr'])\n",
    "        print(Dict['config']['gamma'])\n",
    "        break\n",
    "        \n",
    "x = []\n",
    "y = []\n",
    "ym = []\n",
    "yn = []\n",
    "su = 0\n",
    "yn.append(0)\n",
    "ym.append(0)\n",
    "x.append(0)\n",
    "with open(path) as f:\n",
    "    i = 0\n",
    "    for jsonObj in f:\n",
    "        Dict = json.loads(jsonObj)\n",
    "        x.append(Dict['timesteps_total'])\n",
    "        y.append(Dict['episode_reward_mean'])\n",
    "        su+=y[i]\n",
    "        yn.append(su/(i+1))\n",
    "        ym.append(0.01*y[i]+0.99*ym[i])\n",
    "        i+=1\n",
    "\n",
    "\n",
    "plt.plot(x,yn)\n",
    "plt.xlabel('Timesteps Total')\n",
    "plt.ylabel('Average Reward')\n",
    "plt.show()"
   ]
  },
  {
   "cell_type": "markdown",
   "id": "beddaa86",
   "metadata": {},
   "source": [
    "HalfCheetah v4"
   ]
  },
  {
   "cell_type": "code",
   "execution_count": null,
   "id": "16bfceaa",
   "metadata": {},
   "outputs": [],
   "source": [
    "lrs = [1e-6,1e-5,5e-5,1e-4]\n",
    "\n",
    "for lr in lrs:\n",
    "    config = (\n",
    "        PPOConfig()\n",
    "        .environment(\"HalfCheetah-v4\")\n",
    "    )\n",
    "    config[\"lr\"] = lr\n",
    "    \n",
    "    algo = config.build()\n",
    "    \n",
    "    for i in range(250):\n",
    "        algo.train()\n",
    "    path_to_checkpoint = algo.save()\n",
    "    algo.stop()"
   ]
  },
  {
   "cell_type": "code",
   "execution_count": 16,
   "id": "11ddec08",
   "metadata": {},
   "outputs": [],
   "source": [
    "PathList_lr = []\n",
    "PathList_lr.append(r'C:\\Users\\gabag\\ray_results\\default\\PPO_HalfCheetah-v4_8aee6_00000_0_2023-04-27_16-07-43\\result.json')\n",
    "PathList_lr.append(r'C:\\Users\\gabag\\ray_results\\default\\PPO_HalfCheetah-v4_88e1e_00000_0_2023-04-27_16-07-40\\result.json')\n",
    "PathList_lr.append(r'C:\\Users\\gabag\\ray_results\\default\\PPO_HalfCheetah-v4_434aa_00000_0_2023-04-27_15-37-05\\result.json')\n",
    "PathList_lr.append(r'C:\\Users\\gabag\\ray_results\\default\\PPO_HalfCheetah-v4_40e78_00000_0_2023-04-27_15-37-01\\result.json')"
   ]
  },
  {
   "cell_type": "code",
   "execution_count": 17,
   "id": "259d2859",
   "metadata": {},
   "outputs": [],
   "source": [
    "lrs = []\n",
    "Xs = []\n",
    "Ys = []\n",
    "\n",
    "for path in PathList_lr:\n",
    "    with open(path) as f:\n",
    "        for jsonObj in f:\n",
    "            Dict = json.loads(jsonObj)\n",
    "            lrs.append(Dict['config']['lr'])\n",
    "            break\n",
    "    x = []\n",
    "    y = []\n",
    "    ym = []\n",
    "    ym.append(0)\n",
    "    x.append(0)\n",
    "    with open(path) as f:\n",
    "        i = 0\n",
    "        for jsonObj in f:\n",
    "            Dict = json.loads(jsonObj)\n",
    "            x.append(Dict['timesteps_total'])\n",
    "            y.append(Dict['episode_reward_mean'])\n",
    "            ym.append(0.01*y[i]+0.99*ym[i])\n",
    "            i+=1\n",
    "    Xs.append(x)\n",
    "    Ys.append(ym)"
   ]
  },
  {
   "cell_type": "code",
   "execution_count": 18,
   "id": "4c8a2f38",
   "metadata": {},
   "outputs": [
    {
     "data": {
      "image/png": "[encoded data removed]",
      "text/plain": [
       "<Figure size 432x288 with 1 Axes>"
      ]
     },
     "metadata": {
      "needs_background": "light"
     },
     "output_type": "display_data"
    }
   ],
   "source": [
    "for i in range(len(lrs)):\n",
    "    plt.plot(Xs[i],Ys[i],label = str(lrs[i]))\n",
    "plt.legend()\n",
    "plt.xlabel('Timesteps Total')\n",
    "plt.ylabel('Exponentially Smoothened Reward')\n",
    "plt.show()"
   ]
  },
  {
   "cell_type": "markdown",
   "id": "f489e46c",
   "metadata": {},
   "source": [
    "As we can see from the above plt that PPO for env HalfCheetah-v4 performs the best for lr = 0.0001"
   ]
  },
  {
   "cell_type": "code",
   "execution_count": null,
   "id": "806d5a4f",
   "metadata": {},
   "outputs": [],
   "source": [
    "gammas = [0.95,0.9,0.8,0.6]\n",
    "\n",
    "for gamma in gammas:\n",
    "    config = (\n",
    "        PPOConfig()\n",
    "        .environment(\"HalfCheetah-v4\")\n",
    "    )\n",
    "    config[\"lr\"] = 1e-4\n",
    "    config[\"gamma\"] = gamma\n",
    "    \n",
    "    algo = config.build()\n",
    "    \n",
    "    for i in range(250):\n",
    "        algo.train()\n",
    "    path_to_checkpoint = algo.save()\n",
    "    algo.stop()"
   ]
  },
  {
   "cell_type": "code",
   "execution_count": 19,
   "id": "2e5bb906",
   "metadata": {},
   "outputs": [],
   "source": [
    "PathList_gamma = []\n",
    "PathList_gamma.append(r'C:\\Users\\gabag\\ray_results\\default\\PPO_HalfCheetah-v4_e2208_00000_0_2023-04-27_17-07-26\\result.json')\n",
    "PathList_gamma.append(r'C:\\Users\\gabag\\ray_results\\default\\PPO_HalfCheetah-v4_c917e_00000_0_2023-04-27_17-06-44\\result.json')\n",
    "PathList_gamma.append(r'C:\\Users\\gabag\\ray_results\\default\\PPO_HalfCheetah-v4_17833_00000_0_2023-04-27_16-40-17\\result.json')\n",
    "PathList_gamma.append(r'C:\\Users\\gabag\\ray_results\\default\\PPO_HalfCheetah-v4_f8612_00000_0_2023-04-27_16-39-25\\result.json')\n",
    "PathList_gamma.append(r'C:\\Users\\gabag\\ray_results\\default\\PPO_HalfCheetah-v4_8aee6_00000_0_2023-04-27_16-07-43\\result.json')"
   ]
  },
  {
   "cell_type": "code",
   "execution_count": 20,
   "id": "456a6196",
   "metadata": {},
   "outputs": [
    {
     "name": "stdout",
     "output_type": "stream",
     "text": [
      "0.0001\n",
      "0.0001\n",
      "0.0001\n",
      "0.0001\n",
      "0.0001\n"
     ]
    }
   ],
   "source": [
    "gammas = []\n",
    "Xs = []\n",
    "Ys = []\n",
    "\n",
    "for path in PathList_gamma:\n",
    "    with open(path) as f:\n",
    "        for jsonObj in f:\n",
    "            Dict = json.loads(jsonObj)\n",
    "            print(Dict['config']['lr'])\n",
    "            gammas.append(Dict['config']['gamma'])\n",
    "            break\n",
    "            \n",
    "    x = []\n",
    "    y = []\n",
    "    ym = []\n",
    "    ym.append(0)\n",
    "    x.append(0)\n",
    "    with open(path) as f:\n",
    "        i = 0\n",
    "        for jsonObj in f:\n",
    "            Dict = json.loads(jsonObj)\n",
    "            x.append(Dict['timesteps_total'])\n",
    "            y.append(Dict['episode_reward_mean'])\n",
    "            ym.append(0.01*y[i]+0.99*ym[i])\n",
    "            i+=1\n",
    "    Xs.append(x)\n",
    "    Ys.append(ym)"
   ]
  },
  {
   "cell_type": "code",
   "execution_count": 21,
   "id": "e8d94cca",
   "metadata": {},
   "outputs": [
    {
     "data": {
      "image/png": "[encoded data removed]",
      "text/plain": [
       "<Figure size 432x288 with 1 Axes>"
      ]
     },
     "metadata": {
      "needs_background": "light"
     },
     "output_type": "display_data"
    }
   ],
   "source": [
    "for i in range(len(gammas)):\n",
    "    plt.plot(Xs[i],Ys[i],label = str(gammas[i]))\n",
    "plt.legend()\n",
    "plt.xlabel('Timesteps Total')\n",
    "plt.ylabel('Exponentially Smoothened Reward')\n",
    "plt.show()"
   ]
  },
  {
   "cell_type": "markdown",
   "id": "747248c8",
   "metadata": {},
   "source": [
    "As we can see from the above plot that for learning rate = 1e-4, the algorithm performs the best for gamma = 0.8. But the speed of growth of reward seems hihger for gamma = 0.9 so we shall proceed with gamma = 0.9 for the experiment with 10 million timesteps."
   ]
  },
  {
   "cell_type": "code",
   "execution_count": null,
   "id": "7fb1d372",
   "metadata": {},
   "outputs": [],
   "source": [
    "config = (\n",
    "    PPOConfig()\n",
    "    .environment(\"HalfCheetah-v4\")\n",
    ")\n",
    "config[\"lr\"] = 1e-4\n",
    "config[\"gamma\"] = 0.9\n",
    "\n",
    "algo = config.build()\n",
    "\n",
    "for i in range(2500):\n",
    "    algo.train()\n",
    "path_to_checkpoint = algo.save()\n",
    "algo.stop()"
   ]
  },
  {
   "cell_type": "code",
   "execution_count": 22,
   "id": "c8f057b4",
   "metadata": {},
   "outputs": [
    {
     "name": "stdout",
     "output_type": "stream",
     "text": [
      "0.0001\n",
      "0.9\n"
     ]
    },
    {
     "data": {
      "image/png": "[encoded data removed]",
      "text/plain": [
       "<Figure size 432x288 with 1 Axes>"
      ]
     },
     "metadata": {
      "needs_background": "light"
     },
     "output_type": "display_data"
    }
   ],
   "source": [
    "path = r'C:\\Users\\gabag\\ray_results\\default\\PPO_HalfCheetah-v4_06b5e_00000_0_2023-04-27_17-44-14\\result.json'\n",
    "\n",
    "with open(path) as f:\n",
    "    for jsonObj in f:\n",
    "        Dict = json.loads(jsonObj)\n",
    "        print(Dict['config']['lr'])\n",
    "        print(Dict['config']['gamma'])\n",
    "        break\n",
    "        \n",
    "x = []\n",
    "y = []\n",
    "ym = []\n",
    "yn = []\n",
    "su = 0\n",
    "yn.append(0)\n",
    "ym.append(0)\n",
    "x.append(0)\n",
    "with open(path) as f:\n",
    "    i = 0\n",
    "    for jsonObj in f:\n",
    "        Dict = json.loads(jsonObj)\n",
    "        x.append(Dict['timesteps_total'])\n",
    "        y.append(Dict['episode_reward_mean'])\n",
    "        su+=y[i]\n",
    "        yn.append(su/(i+1))\n",
    "        ym.append(0.01*y[i]+0.99*ym[i])\n",
    "        i+=1\n",
    "\n",
    "\n",
    "plt.plot(x,yn)\n",
    "plt.xlabel('Timesteps Total')\n",
    "plt.ylabel('Average Reward')\n",
    "plt.show()"
   ]
  },
  {
   "cell_type": "markdown",
   "id": "8e5b34f1",
   "metadata": {},
   "source": [
    "Walker 2D"
   ]
  },
  {
   "cell_type": "code",
   "execution_count": 1,
   "id": "c7e10a82",
   "metadata": {},
   "outputs": [],
   "source": [
    "from ray.rllib.algorithms.ppo import PPOConfig"
   ]
  },
  {
   "cell_type": "code",
   "execution_count": 2,
   "id": "d384ddbd",
   "metadata": {},
   "outputs": [
    {
     "name": "stdout",
     "output_type": "stream",
     "text": [
      "\n"
     ]
    },
    {
     "name": "stderr",
     "output_type": "stream",
     "text": [
      "2023-05-08 20:17:36,444\tINFO worker.py:1553 -- Started a local Ray instance.\n",
      "\u001b[2m\u001b[36m(RolloutWorker pid=25976)\u001b[0m 2023-05-08 20:17:45,846\tWARNING env.py:166 -- Your env reset() method appears to take 'seed' or 'return_info' arguments. Note that these are not yet supported in RLlib. Seeding will take place using 'env.seed()' and the info dict will not be returned from reset.\n"
     ]
    },
    {
     "name": "stdout",
     "output_type": "stream",
     "text": [
      "\u001b[2m\u001b[36m(RolloutWorker pid=25976)\u001b[0m \n",
      "\u001b[2m\u001b[36m(RolloutWorker pid=26288)\u001b[0m \n"
     ]
    },
    {
     "name": "stderr",
     "output_type": "stream",
     "text": [
      "2023-05-08 20:17:47,387\tINFO trainable.py:172 -- Trainable.setup took 13.310 seconds. If your trainable is slow to initialize, consider setting reuse_actors=True to reduce actor creation overheads.\n",
      "2023-05-08 20:17:47,388\tWARNING util.py:67 -- Install gputil for GPU system monitoring.\n",
      "\u001b[2m\u001b[36m(RolloutWorker pid=7792)\u001b[0m 2023-05-08 20:33:03,177\tWARNING env.py:166 -- Your env reset() method appears to take 'seed' or 'return_info' arguments. Note that these are not yet supported in RLlib. Seeding will take place using 'env.seed()' and the info dict will not be returned from reset.\n"
     ]
    },
    {
     "name": "stdout",
     "output_type": "stream",
     "text": [
      "\u001b[2m\u001b[36m(RolloutWorker pid=7792)\u001b[0m \n",
      "\u001b[2m\u001b[36m(RolloutWorker pid=21408)\u001b[0m \n"
     ]
    },
    {
     "name": "stderr",
     "output_type": "stream",
     "text": [
      "2023-05-08 20:33:04,731\tWARNING util.py:67 -- Install gputil for GPU system monitoring.\n"
     ]
    },
    {
     "name": "stdout",
     "output_type": "stream",
     "text": [
      "\u001b[2m\u001b[36m(RolloutWorker pid=11304)\u001b[0m \n",
      "\u001b[2m\u001b[36m(RolloutWorker pid=24900)\u001b[0m \n"
     ]
    },
    {
     "name": "stderr",
     "output_type": "stream",
     "text": [
      "\u001b[2m\u001b[36m(RolloutWorker pid=24900)\u001b[0m 2023-05-08 20:48:51,067\tWARNING env.py:166 -- Your env reset() method appears to take 'seed' or 'return_info' arguments. Note that these are not yet supported in RLlib. Seeding will take place using 'env.seed()' and the info dict will not be returned from reset.\n",
      "2023-05-08 20:48:52,552\tWARNING util.py:67 -- Install gputil for GPU system monitoring.\n",
      "\u001b[2m\u001b[36m(RolloutWorker pid=20452)\u001b[0m 2023-05-08 21:04:37,650\tWARNING env.py:166 -- Your env reset() method appears to take 'seed' or 'return_info' arguments. Note that these are not yet supported in RLlib. Seeding will take place using 'env.seed()' and the info dict will not be returned from reset.\n"
     ]
    },
    {
     "name": "stdout",
     "output_type": "stream",
     "text": [
      "\u001b[2m\u001b[36m(RolloutWorker pid=20452)\u001b[0m \n",
      "\u001b[2m\u001b[36m(RolloutWorker pid=12984)\u001b[0m \n"
     ]
    },
    {
     "name": "stderr",
     "output_type": "stream",
     "text": [
      "2023-05-08 21:04:39,153\tWARNING util.py:67 -- Install gputil for GPU system monitoring.\n"
     ]
    }
   ],
   "source": [
    "lrs = [1e-6,1e-5,1e-4,1e-3]\n",
    "\n",
    "for lr in lrs:\n",
    "    config = (\n",
    "        PPOConfig()\n",
    "        .environment(\"Walker2d-v4\")\n",
    "    )\n",
    "    config[\"lr\"] = lr\n",
    "    \n",
    "    algo = config.build()\n",
    "    \n",
    "    for i in range(250):\n",
    "        algo.train()\n",
    "    path_to_checkpoint = algo.save()\n",
    "    algo.stop()"
   ]
  },
  {
   "cell_type": "code",
   "execution_count": 23,
   "id": "1657dca1",
   "metadata": {},
   "outputs": [],
   "source": [
    "import json\n",
    "\n",
    "PathList_lr = []\n",
    "PathList_lr.append(r\"C:\\Users\\gabag\\ray_results\\PPO_Walker2d-v4_2023-05-08_20-17-34ad06fj25\\result.json\")\n",
    "PathList_lr.append(r\"C:\\Users\\gabag\\ray_results\\PPO_Walker2d-v4_2023-05-08_20-32-55c_x_8_12\\result.json\")\n",
    "PathList_lr.append(r\"C:\\Users\\gabag\\ray_results\\PPO_Walker2d-v4_2023-05-08_20-48-43n41t_34s\\result.json\")\n",
    "PathList_lr.append(r\"C:\\Users\\gabag\\ray_results\\PPO_Walker2d-v4_2023-05-08_21-04-3018f06v0n\\result.json\")"
   ]
  },
  {
   "cell_type": "code",
   "execution_count": 24,
   "id": "83cb28eb",
   "metadata": {},
   "outputs": [],
   "source": [
    "lrs = []\n",
    "Xs = []\n",
    "Ys = []\n",
    "\n",
    "for path in PathList_lr:\n",
    "    with open(path) as f:\n",
    "        for jsonObj in f:\n",
    "            Dict = json.loads(jsonObj)\n",
    "            lrs.append(Dict['config']['lr'])\n",
    "            break\n",
    "    x = []\n",
    "    y = []\n",
    "    ym = []\n",
    "    ym.append(0)\n",
    "    x.append(0)\n",
    "    with open(path) as f:\n",
    "        i = 0\n",
    "        for jsonObj in f:\n",
    "            Dict = json.loads(jsonObj)\n",
    "            x.append(Dict['timesteps_total'])\n",
    "            y.append(Dict['episode_reward_mean'])\n",
    "            ym.append(0.01*y[i]+0.99*ym[i])\n",
    "            i+=1\n",
    "    Xs.append(x)\n",
    "    Ys.append(ym)"
   ]
  },
  {
   "cell_type": "code",
   "execution_count": 25,
   "id": "50500c45",
   "metadata": {},
   "outputs": [
    {
     "data": {
      "image/png": "[encoded data removed]",
      "text/plain": [
       "<Figure size 432x288 with 1 Axes>"
      ]
     },
     "metadata": {
      "needs_background": "light"
     },
     "output_type": "display_data"
    }
   ],
   "source": [
    "import matplotlib.pyplot as plt\n",
    "\n",
    "for i in range(len(lrs)):\n",
    "    plt.plot(Xs[i],Ys[i],label = str(lrs[i]))\n",
    "plt.legend()\n",
    "plt.xlabel('Timesteps Total')\n",
    "plt.ylabel('Exponentially Smoothened Reward')\n",
    "plt.show()"
   ]
  },
  {
   "cell_type": "markdown",
   "id": "5aee9545",
   "metadata": {},
   "source": [
    "As we can see the best lr is 1e-4"
   ]
  },
  {
   "cell_type": "code",
   "execution_count": 16,
   "id": "19b867be",
   "metadata": {},
   "outputs": [
    {
     "name": "stderr",
     "output_type": "stream",
     "text": [
      "\u001b[2m\u001b[36m(RolloutWorker pid=27364)\u001b[0m 2023-05-09 12:19:55,687\tWARNING env.py:166 -- Your env reset() method appears to take 'seed' or 'return_info' arguments. Note that these are not yet supported in RLlib. Seeding will take place using 'env.seed()' and the info dict will not be returned from reset.\n"
     ]
    },
    {
     "name": "stdout",
     "output_type": "stream",
     "text": [
      "\u001b[2m\u001b[36m(RolloutWorker pid=27364)\u001b[0m \n",
      "\u001b[2m\u001b[36m(RolloutWorker pid=14012)\u001b[0m \n"
     ]
    },
    {
     "name": "stderr",
     "output_type": "stream",
     "text": [
      "2023-05-09 12:19:57,390\tINFO trainable.py:172 -- Trainable.setup took 10.378 seconds. If your trainable is slow to initialize, consider setting reuse_actors=True to reduce actor creation overheads.\n",
      "2023-05-09 12:19:57,392\tWARNING util.py:67 -- Install gputil for GPU system monitoring.\n"
     ]
    },
    {
     "name": "stdout",
     "output_type": "stream",
     "text": [
      "\u001b[2m\u001b[36m(RolloutWorker pid=20556)\u001b[0m \n",
      "\u001b[2m\u001b[36m(RolloutWorker pid=10448)\u001b[0m \n"
     ]
    },
    {
     "name": "stderr",
     "output_type": "stream",
     "text": [
      "\u001b[2m\u001b[36m(RolloutWorker pid=10448)\u001b[0m 2023-05-09 12:37:39,896\tWARNING env.py:166 -- Your env reset() method appears to take 'seed' or 'return_info' arguments. Note that these are not yet supported in RLlib. Seeding will take place using 'env.seed()' and the info dict will not be returned from reset.\n",
      "2023-05-09 12:37:41,520\tINFO trainable.py:172 -- Trainable.setup took 10.178 seconds. If your trainable is slow to initialize, consider setting reuse_actors=True to reduce actor creation overheads.\n",
      "2023-05-09 12:37:41,522\tWARNING util.py:67 -- Install gputil for GPU system monitoring.\n",
      "\u001b[2m\u001b[36m(RolloutWorker pid=15680)\u001b[0m 2023-05-09 12:56:00,903\tWARNING env.py:166 -- Your env reset() method appears to take 'seed' or 'return_info' arguments. Note that these are not yet supported in RLlib. Seeding will take place using 'env.seed()' and the info dict will not be returned from reset.\n"
     ]
    },
    {
     "name": "stdout",
     "output_type": "stream",
     "text": [
      "\u001b[2m\u001b[36m(RolloutWorker pid=15680)\u001b[0m \n",
      "\u001b[2m\u001b[36m(RolloutWorker pid=1208)\u001b[0m \n"
     ]
    },
    {
     "name": "stderr",
     "output_type": "stream",
     "text": [
      "2023-05-09 12:56:02,491\tINFO trainable.py:172 -- Trainable.setup took 10.074 seconds. If your trainable is slow to initialize, consider setting reuse_actors=True to reduce actor creation overheads.\n",
      "2023-05-09 12:56:02,492\tWARNING util.py:67 -- Install gputil for GPU system monitoring.\n"
     ]
    },
    {
     "name": "stdout",
     "output_type": "stream",
     "text": [
      "\u001b[2m\u001b[36m(RolloutWorker pid=17076)\u001b[0m \n",
      "\u001b[2m\u001b[36m(RolloutWorker pid=26520)\u001b[0m \n"
     ]
    },
    {
     "name": "stderr",
     "output_type": "stream",
     "text": [
      "\u001b[2m\u001b[36m(RolloutWorker pid=26520)\u001b[0m 2023-05-09 13:14:43,172\tWARNING env.py:166 -- Your env reset() method appears to take 'seed' or 'return_info' arguments. Note that these are not yet supported in RLlib. Seeding will take place using 'env.seed()' and the info dict will not be returned from reset.\n",
      "2023-05-09 13:14:44,843\tINFO trainable.py:172 -- Trainable.setup took 10.248 seconds. If your trainable is slow to initialize, consider setting reuse_actors=True to reduce actor creation overheads.\n",
      "2023-05-09 13:14:44,845\tWARNING util.py:67 -- Install gputil for GPU system monitoring.\n"
     ]
    }
   ],
   "source": [
    "gammas = [0.95,0.9,0.8,0.6]\n",
    "\n",
    "for gamma in gammas:\n",
    "    config = (\n",
    "        PPOConfig()\n",
    "        .environment(\"Walker2d-v4\")\n",
    "    )\n",
    "    config[\"lr\"] = 1e-4\n",
    "    config[\"gamma\"] = gamma\n",
    "    \n",
    "    algo = config.build()\n",
    "    \n",
    "    for i in range(250):\n",
    "        algo.train()\n",
    "    path_to_checkpoint = algo.save()\n",
    "    algo.stop() "
   ]
  },
  {
   "cell_type": "code",
   "execution_count": 26,
   "id": "11b02f43",
   "metadata": {},
   "outputs": [],
   "source": [
    "PathList_gamma = []\n",
    "PathList_gamma.append(r\"C:\\Users\\gabag\\ray_results\\PPO_Walker2d-v4_2023-05-08_20-48-43n41t_34s\\result.json\")\n",
    "PathList_gamma.append(r\"C:\\Users\\gabag\\ray_results\\PPO_Walker2d-v4_2023-05-08_23-49-0876l7r_xm\\result.json\")\n",
    "PathList_gamma.append(r\"C:\\Users\\gabag\\ray_results\\PPO_Walker2d-v4_2023-05-09_00-04-46yicvwdqk\\result.json\")\n",
    "PathList_gamma.append(r\"C:\\Users\\gabag\\ray_results\\PPO_Walker2d-v4_2023-05-09_00-20-340fsg1b2s\\result.json\")\n",
    "PathList_gamma.append(r\"C:\\Users\\gabag\\ray_results\\PPO_Walker2d-v4_2023-05-09_00-36-21qoh7sw2s\\result.json\")"
   ]
  },
  {
   "cell_type": "code",
   "execution_count": 27,
   "id": "71e15c24",
   "metadata": {},
   "outputs": [
    {
     "name": "stdout",
     "output_type": "stream",
     "text": [
      "0.0001\n",
      "0.0001\n",
      "0.0001\n",
      "0.0001\n",
      "0.0001\n"
     ]
    }
   ],
   "source": [
    "gammas = []\n",
    "Xs = []\n",
    "Ys = []\n",
    "\n",
    "for path in PathList_gamma:\n",
    "    with open(path) as f:\n",
    "        for jsonObj in f:\n",
    "            Dict = json.loads(jsonObj)\n",
    "            print(Dict['config']['lr'])\n",
    "            gammas.append(Dict['config']['gamma'])\n",
    "            break\n",
    "            \n",
    "    x = []\n",
    "    y = []\n",
    "    ym = []\n",
    "    ym.append(0)\n",
    "    x.append(0)\n",
    "    with open(path) as f:\n",
    "        i = 0\n",
    "        for jsonObj in f:\n",
    "            Dict = json.loads(jsonObj)\n",
    "            x.append(Dict['timesteps_total'])\n",
    "            y.append(Dict['episode_reward_mean'])\n",
    "            ym.append(0.01*y[i]+0.99*ym[i])\n",
    "            i+=1\n",
    "    Xs.append(x)\n",
    "    Ys.append(ym)"
   ]
  },
  {
   "cell_type": "code",
   "execution_count": 28,
   "id": "e3ef1679",
   "metadata": {},
   "outputs": [
    {
     "data": {
      "image/png": "[encoded data removed]",
      "text/plain": [
       "<Figure size 432x288 with 1 Axes>"
      ]
     },
     "metadata": {
      "needs_background": "light"
     },
     "output_type": "display_data"
    }
   ],
   "source": [
    "for i in range(len(gammas)):\n",
    "    plt.plot(Xs[i],Ys[i],label = str(gammas[i]))\n",
    "plt.legend()\n",
    "plt.xlabel('Timesteps Total')\n",
    "plt.ylabel('Exponentially Smoothened Reward')\n",
    "plt.show()"
   ]
  },
  {
   "cell_type": "markdown",
   "id": "9080924f",
   "metadata": {},
   "source": [
    "So we can see that the best gamma is 0.6"
   ]
  },
  {
   "cell_type": "code",
   "execution_count": null,
   "id": "98523208",
   "metadata": {},
   "outputs": [],
   "source": [
    "config = (\n",
    "    PPOConfig()\n",
    "    .environment(\"Walker2d-v4\")\n",
    ")\n",
    "config[\"lr\"] = 1e-4\n",
    "config[\"gamma\"] = 0.6\n",
    "\n",
    "algo = config.build()\n",
    "\n",
    "for i in range(2500):\n",
    "    algo.train()\n",
    "path_to_checkpoint = algo.save()\n",
    "algo.stop()"
   ]
  },
  {
   "cell_type": "code",
   "execution_count": 29,
   "id": "38cb122f",
   "metadata": {},
   "outputs": [
    {
     "name": "stdout",
     "output_type": "stream",
     "text": [
      "0.0001\n",
      "0.6\n"
     ]
    },
    {
     "data": {
      "image/png": "[encoded data removed]",
      "text/plain": [
       "<Figure size 432x288 with 1 Axes>"
      ]
     },
     "metadata": {
      "needs_background": "light"
     },
     "output_type": "display_data"
    }
   ],
   "source": [
    "path = r\"C:\\Users\\gabag\\ray_results\\PPO_Walker2d-v4_2023-05-09_00-57-36r9amwvk1\\result.json\"\n",
    "\n",
    "with open(path) as f:\n",
    "    for jsonObj in f:\n",
    "        Dict = json.loads(jsonObj)\n",
    "        print(Dict['config']['lr'])\n",
    "        print(Dict['config']['gamma'])\n",
    "        break\n",
    "        \n",
    "x = []\n",
    "y = []\n",
    "ym = []\n",
    "yn = []\n",
    "su = 0\n",
    "yn.append(0)\n",
    "ym.append(0)\n",
    "x.append(0)\n",
    "with open(path) as f:\n",
    "    i = 0\n",
    "    for jsonObj in f:\n",
    "        Dict = json.loads(jsonObj)\n",
    "        x.append(Dict['timesteps_total'])\n",
    "        y.append(Dict['episode_reward_mean'])\n",
    "        su+=y[i]\n",
    "        yn.append(su/(i+1))\n",
    "        ym.append(0.01*y[i]+0.99*ym[i])\n",
    "        i+=1\n",
    "\n",
    "\n",
    "plt.plot(x,yn)\n",
    "plt.xlabel('Timesteps Total')\n",
    "plt.ylabel('Average Reward')\n",
    "plt.show()"
   ]
  },
  {
   "cell_type": "markdown",
   "id": "ac79e982",
   "metadata": {},
   "source": [
    "So we obtain the required curves"
   ]
  },
  {
   "cell_type": "markdown",
   "id": "7422a968",
   "metadata": {},
   "source": [
    "======================================================================================================================="
   ]
  },
  {
   "cell_type": "markdown",
   "id": "24392406",
   "metadata": {},
   "source": [
    "2 We take weights from the trained Ant-v4 PPO policy and transform it into weights for HalfCheetah-v4 and use these weights as initial weights to train the policy"
   ]
  },
  {
   "cell_type": "markdown",
   "id": "2226f656",
   "metadata": {},
   "source": [
    "We match similar states to similar states (both position and velocity), then using the same matching we match the actions"
   ]
  },
  {
   "cell_type": "code",
   "execution_count": 1,
   "id": "42548557",
   "metadata": {},
   "outputs": [],
   "source": [
    "def AntPolToHalfCheetah(AntW,HalfCheetahW):\n",
    "    statematch = [(0,0),(1,1),(5,2),(6,3),(8,4),(11,5),(12,6),(10,7),(13,8),(14,9),(16,10),(19,11),(20,12),(21,13),(25,16),(26,15),(24,16)]\n",
    "    actionmatch = [(2,0),(3,1),(5,2),(0,3),(1,4),(7,5)]\n",
    "    \n",
    "    HalfCheetahW['default_policy']['default_policy/fc_1/bias'] = AntW['weights']['default_policy/fc_1/bias']\n",
    "    HalfCheetahW['default_policy']['default_policy/fc_value_1/bias'] = AntW['weights']['default_policy/fc_value_1/bias']\n",
    "    HalfCheetahW['default_policy']['default_policy/fc_2/kernel'] = AntW['weights']['default_policy/fc_2/kernel']\n",
    "    HalfCheetahW['default_policy']['default_policy/fc_2/bias'] = AntW['weights']['default_policy/fc_2/bias']\n",
    "    HalfCheetahW['default_policy']['default_policy/fc_value_2/kernel'] = AntW['weights']['default_policy/fc_value_2/kernel']\n",
    "    HalfCheetahW['default_policy']['default_policy/fc_value_2/bias'] = AntW['weights']['default_policy/fc_value_2/bias']\n",
    "    HalfCheetahW['default_policy']['default_policy/value_out/kernel'] = AntW['weights']['default_policy/value_out/kernel']\n",
    "    HalfCheetahW['default_policy']['default_policy/value_out/bias'] = AntW['weights']['default_policy/value_out/bias']\n",
    "    \n",
    "    HalfCheetahW['default_policy']['default_policy/fc_1/kernel'] = np.zeros((17, 256))\n",
    "    HalfCheetahW['default_policy']['default_policy/fc_value_1/kernel'] = np.zeros((17, 256))\n",
    "    \n",
    "    for match in statematch:\n",
    "        HalfCheetahW['default_policy']['default_policy/fc_1/kernel'][match[1],:] = AntW['weights']['default_policy/fc_1/kernel'][match[0],:]\n",
    "        HalfCheetahW['default_policy']['default_policy/fc_value_1/kernel'][match[1],:] = AntW['weights']['default_policy/fc_value_1/kernel'][match[0],:]\n",
    "        \n",
    "    for match in actionmatch:\n",
    "        HalfCheetahW['default_policy']['default_policy/fc_out/kernel'][:,match[1]] = AntW['weights']['default_policy/fc_out/kernel'][:,match[0]]\n",
    "        HalfCheetahW['default_policy']['default_policy/fc_out/kernel'][:,match[1]+6] = AntW['weights']['default_policy/fc_out/kernel'][:,match[0]+8]\n",
    "        HalfCheetahW['default_policy']['default_policy/fc_out/bias'][match[1]] = AntW['weights']['default_policy/fc_out/bias'][match[0]]\n",
    "        HalfCheetahW['default_policy']['default_policy/fc_out/bias'][match[1]+6] = AntW['weights']['default_policy/fc_out/bias'][match[0]+8]\n",
    "    \n",
    "    return HalfCheetahW"
   ]
  },
  {
   "cell_type": "code",
   "execution_count": 2,
   "id": "fcf9ba95",
   "metadata": {},
   "outputs": [],
   "source": [
    "import pickle\n",
    "\n",
    "with open(r\"C:\\Users\\gabag\\ray_results\\default\\PPO_Ant-v4_1b671_00000_0_2023-04-27_17-44-49\\checkpoint_002500\\policies\\default_policy\\policy_state.pkl\", 'rb') as f:\n",
    "    data = pickle.load(f)\n",
    "#loading weights from already trained policy i.e PPO Ant-v4 trained for 10^7 timesteps"
   ]
  },
  {
   "cell_type": "code",
   "execution_count": 3,
   "id": "cb347b70",
   "metadata": {},
   "outputs": [],
   "source": [
    "import numpy as np\n",
    "from ray.rllib.algorithms.ppo import PPOConfig"
   ]
  },
  {
   "cell_type": "code",
   "execution_count": 4,
   "id": "5b7acf2d",
   "metadata": {},
   "outputs": [],
   "source": [
    "config = (\n",
    "    PPOConfig()\n",
    "    .environment(\"HalfCheetah-v4\")\n",
    ")\n",
    "config[\"lr\"] = 0.0001\n",
    "config[\"gamma\"] = 0.9"
   ]
  },
  {
   "cell_type": "code",
   "execution_count": 5,
   "id": "75ca24e5",
   "metadata": {},
   "outputs": [
    {
     "name": "stdout",
     "output_type": "stream",
     "text": [
      "\n"
     ]
    },
    {
     "name": "stderr",
     "output_type": "stream",
     "text": [
      "2023-05-06 10:52:10,473\tINFO worker.py:1553 -- Started a local Ray instance.\n"
     ]
    },
    {
     "name": "stdout",
     "output_type": "stream",
     "text": [
      "\u001b[2m\u001b[36m(RolloutWorker pid=4772)\u001b[0m \n",
      "\u001b[2m\u001b[36m(RolloutWorker pid=13636)\u001b[0m \n"
     ]
    },
    {
     "name": "stderr",
     "output_type": "stream",
     "text": [
      "\u001b[2m\u001b[36m(RolloutWorker pid=13636)\u001b[0m 2023-05-06 10:52:19,336\tWARNING env.py:166 -- Your env reset() method appears to take 'seed' or 'return_info' arguments. Note that these are not yet supported in RLlib. Seeding will take place using 'env.seed()' and the info dict will not be returned from reset.\n",
      "2023-05-06 10:52:20,820\tINFO trainable.py:172 -- Trainable.setup took 12.902 seconds. If your trainable is slow to initialize, consider setting reuse_actors=True to reduce actor creation overheads.\n",
      "2023-05-06 10:52:20,821\tWARNING util.py:67 -- Install gputil for GPU system monitoring.\n"
     ]
    }
   ],
   "source": [
    "algo = config.build()\n",
    "\n",
    "pol = (algo.get_policy())"
   ]
  },
  {
   "cell_type": "code",
   "execution_count": 6,
   "id": "7922e57c",
   "metadata": {},
   "outputs": [],
   "source": [
    "pol.set_weights(AntPolToHalfCheetah(data,algo.get_weights())['default_policy'])"
   ]
  },
  {
   "cell_type": "code",
   "execution_count": 7,
   "id": "8ef84465",
   "metadata": {},
   "outputs": [],
   "source": [
    "for i in range(2500):\n",
    "    algo.train()\n",
    "path_to_checkpoint = algo.save()"
   ]
  },
  {
   "cell_type": "code",
   "execution_count": null,
   "id": "2a6143a5",
   "metadata": {},
   "outputs": [],
   "source": [
    "print(path_to_checkpoint)"
   ]
  },
  {
   "cell_type": "code",
   "execution_count": 10,
   "id": "86cc687f",
   "metadata": {},
   "outputs": [],
   "source": [
    "algo.stop()"
   ]
  },
  {
   "cell_type": "code",
   "execution_count": 30,
   "id": "6c029f5c",
   "metadata": {},
   "outputs": [
    {
     "name": "stdout",
     "output_type": "stream",
     "text": [
      "0.0001\n",
      "0.9\n",
      "0.0001\n",
      "0.9\n"
     ]
    },
    {
     "data": {
      "image/png": "[encoded data removed]",
      "text/plain": [
       "<Figure size 432x288 with 1 Axes>"
      ]
     },
     "metadata": {
      "needs_background": "light"
     },
     "output_type": "display_data"
    }
   ],
   "source": [
    "import json\n",
    "import matplotlib.pyplot as plt\n",
    "\n",
    "path = r\"C:\\Users\\gabag\\ray_results\\PPO_HalfCheetah-v4_2023-05-05_18-20-54n657iuwm\\result.json\"\n",
    "\n",
    "with open(path) as f:\n",
    "    for jsonObj in f:\n",
    "        Dict = json.loads(jsonObj)\n",
    "        print(Dict['config']['lr'])\n",
    "        print(Dict['config']['gamma'])\n",
    "        break\n",
    "        \n",
    "x = []\n",
    "y = []\n",
    "ym = []\n",
    "yn = []\n",
    "su = 0\n",
    "yn.append(0)\n",
    "ym.append(0)\n",
    "x.append(0)\n",
    "with open(path) as f:\n",
    "    i = 0\n",
    "    for jsonObj in f:\n",
    "        Dict = json.loads(jsonObj)\n",
    "        x.append(Dict['timesteps_total'])\n",
    "        y.append(Dict['episode_reward_mean'])\n",
    "        su+=y[i]\n",
    "        yn.append(su/(i+1))\n",
    "        ym.append(0.01*y[i]+0.99*ym[i])\n",
    "        i+=1\n",
    "\n",
    "plt.plot(x,yn,label = \"changed weights\")\n",
    "\n",
    "path = r'C:\\Users\\gabag\\ray_results\\default\\PPO_HalfCheetah-v4_06b5e_00000_0_2023-04-27_17-44-14\\result.json'\n",
    "\n",
    "with open(path) as f:\n",
    "    for jsonObj in f:\n",
    "        Dict = json.loads(jsonObj)\n",
    "        print(Dict['config']['lr'])\n",
    "        print(Dict['config']['gamma'])\n",
    "        break\n",
    "        \n",
    "x = []\n",
    "y = []\n",
    "ym = []\n",
    "yn = []\n",
    "su = 0\n",
    "yn.append(0)\n",
    "ym.append(0)\n",
    "x.append(0)\n",
    "with open(path) as f:\n",
    "    i = 0\n",
    "    for jsonObj in f:\n",
    "        Dict = json.loads(jsonObj)\n",
    "        x.append(Dict['timesteps_total'])\n",
    "        y.append(Dict['episode_reward_mean'])\n",
    "        su+=y[i]\n",
    "        yn.append(su/(i+1))\n",
    "        ym.append(0.01*y[i]+0.99*ym[i])\n",
    "        i+=1\n",
    "\n",
    "plt.plot(x,yn,label='normal')\n",
    "plt.xlabel('Timesteps Total')\n",
    "plt.ylabel('Average Reward')\n",
    "plt.legend()\n",
    "plt.show()"
   ]
  },
  {
   "cell_type": "markdown",
   "id": "cc0ff34e",
   "metadata": {},
   "source": [
    "We can see from the above graph that using the weights obtained in Ant-v4 PPO does inrease the average reward by like 200 by the end."
   ]
  },
  {
   "cell_type": "markdown",
   "id": "c210a735",
   "metadata": {},
   "source": [
    "============================================================================================================="
   ]
  },
  {
   "cell_type": "markdown",
   "id": "cd06be47",
   "metadata": {},
   "source": [
    "3 "
   ]
  },
  {
   "cell_type": "code",
   "execution_count": 1,
   "id": "e6a540ca",
   "metadata": {},
   "outputs": [],
   "source": [
    "from ray.rllib.algorithms.ppo import PPOConfig\n",
    "import numpy as np\n",
    "import json\n",
    "import matplotlib.pyplot as plt\n",
    "import random"
   ]
  },
  {
   "cell_type": "code",
   "execution_count": 2,
   "id": "8fb87754",
   "metadata": {},
   "outputs": [],
   "source": [
    "def Fedrate(Global,Privates,n_workers):\n",
    "    w = (Global.get_weights())\n",
    "    L = []\n",
    "    Ls = []\n",
    "    for item in (w['default_policy'].items()):\n",
    "        L.append(item[0])\n",
    "        Ls.append(item[1].shape)\n",
    "    for i in range(len(L)):\n",
    "        w['default_policy'][L[i]] = np.zeros(Ls[i])\n",
    "    \n",
    "    for private in Privates:\n",
    "        wp = private.get_weights()\n",
    "        for i in range(len(L)):\n",
    "            w['default_policy'][L[i]] +=wp['default_policy'][L[i]]/n_workers\n",
    "        \n",
    "    pol = Global.get_policy()\n",
    "    pol.set_weights(w['default_policy'])\n",
    "    \n",
    "    for private in Privates:\n",
    "        polp = private.get_policy()\n",
    "        polp.set_weights(w['default_policy'])\n",
    "        \n",
    "    return Global,Privates"
   ]
  },
  {
   "cell_type": "code",
   "execution_count": 5,
   "id": "c3d3792c",
   "metadata": {},
   "outputs": [],
   "source": [
    "def FedRLPPOant(n_workers,lr,gamma):\n",
    "    config = (\n",
    "    PPOConfig()\n",
    "    .environment(\"Ant-v4\")\n",
    "    )\n",
    "    config[\"lr\"] = lr\n",
    "    config[\"gamma\"] = gamma\n",
    "    config[\"num_rollout_workers\"] = 1\n",
    "    \n",
    "    Global = config.build()\n",
    "    Privates = []\n",
    "    for i in range(n_workers):\n",
    "        config = (\n",
    "        PPOConfig()\n",
    "        .environment(\"Ant-v4\")\n",
    "        )\n",
    "        config[\"lr\"] = lr\n",
    "        config[\"gamma\"] = gamma\n",
    "        config[\"num_rollout_workers\"] = 1\n",
    "        config[\"env_config\"][\"reset_noise_scale\"] = 0.05 + 0.1*random.random()\n",
    "        config[\"env_config\"][\"ctrl_cost_weight\"] = 0.45 + 0.1*random.random()\n",
    "        config[\"env_config\"][\"contact_cost_weight\"] = -1 + 2*random.random()\n",
    "        Privates.append(config.build())\n",
    "        \n",
    "    for i in range(100):\n",
    "        for algo in Privates:\n",
    "            algo.train()\n",
    "        if i%5==4:\n",
    "            Global,Privates = Fedrate(Global,Privates,n_workers)\n",
    "    for i in range(100):\n",
    "        Global.train()\n",
    "    for private in Privates:\n",
    "        print(private.save())\n",
    "        private.stop()\n",
    "    print(Global.save())\n",
    "    Global.stop()"
   ]
  },
  {
   "cell_type": "code",
   "execution_count": 6,
   "id": "92bc5be0",
   "metadata": {},
   "outputs": [],
   "source": [
    "def FedRLPPOhc(n_workers,lr,gamma):\n",
    "    config = (\n",
    "    PPOConfig()\n",
    "    .environment(\"HalfCheetah-v4\")\n",
    "    )\n",
    "    config[\"lr\"] = lr\n",
    "    config[\"gamma\"] = gamma\n",
    "    config[\"num_rollout_workers\"] = 1\n",
    "    \n",
    "    Global = config.build()\n",
    "    Privates = []\n",
    "    for i in range(n_workers):\n",
    "        config = (\n",
    "        PPOConfig()\n",
    "        .environment(\"HalfCheetah-v4\")\n",
    "        )\n",
    "        config[\"lr\"] = lr\n",
    "        config[\"gamma\"] = gamma\n",
    "        config[\"num_rollout_workers\"] = 1\n",
    "        config[\"env_config\"][\"reset_noise_scale\"] = 0.05 + 0.1*random.random()\n",
    "        config[\"env_config\"][\"ctrl_cost_weight\"] = 0.05 + 0.1*random.random()\n",
    "        \n",
    "        Privates.append(config.build())\n",
    "        \n",
    "    for i in range(100):\n",
    "        for algo in Privates:\n",
    "            algo.train()\n",
    "        if i%5==4:\n",
    "            Global,Privates = Fedrate(Global,Privates,n_workers)\n",
    "    for i in range(100):\n",
    "        Global.train()\n",
    "    for private in Privates:\n",
    "        print(private.save())\n",
    "        private.stop()\n",
    "    print(Global.save())\n",
    "    Global.stop()"
   ]
  },
  {
   "cell_type": "code",
   "execution_count": 7,
   "id": "d941e080",
   "metadata": {},
   "outputs": [
    {
     "name": "stderr",
     "output_type": "stream",
     "text": [
      "\u001b[2m\u001b[36m(RolloutWorker pid=1184)\u001b[0m 2023-05-10 20:22:05,533\tWARNING env.py:166 -- Your env reset() method appears to take 'seed' or 'return_info' arguments. Note that these are not yet supported in RLlib. Seeding will take place using 'env.seed()' and the info dict will not be returned from reset.\n"
     ]
    },
    {
     "name": "stdout",
     "output_type": "stream",
     "text": [
      "\u001b[2m\u001b[36m(RolloutWorker pid=1184)\u001b[0m \n"
     ]
    },
    {
     "name": "stderr",
     "output_type": "stream",
     "text": [
      "2023-05-10 20:22:06,985\tWARNING util.py:67 -- Install gputil for GPU system monitoring.\n",
      "\u001b[2m\u001b[36m(RolloutWorker pid=19892)\u001b[0m 2023-05-10 20:22:14,061\tWARNING env.py:166 -- Your env reset() method appears to take 'seed' or 'return_info' arguments. Note that these are not yet supported in RLlib. Seeding will take place using 'env.seed()' and the info dict will not be returned from reset.\n"
     ]
    },
    {
     "name": "stdout",
     "output_type": "stream",
     "text": [
      "\u001b[2m\u001b[36m(RolloutWorker pid=19892)\u001b[0m \n"
     ]
    },
    {
     "name": "stderr",
     "output_type": "stream",
     "text": [
      "2023-05-10 20:22:15,534\tWARNING util.py:67 -- Install gputil for GPU system monitoring.\n",
      "\u001b[2m\u001b[36m(RolloutWorker pid=5500)\u001b[0m 2023-05-10 20:22:22,643\tWARNING env.py:166 -- Your env reset() method appears to take 'seed' or 'return_info' arguments. Note that these are not yet supported in RLlib. Seeding will take place using 'env.seed()' and the info dict will not be returned from reset.\n"
     ]
    },
    {
     "name": "stdout",
     "output_type": "stream",
     "text": [
      "\u001b[2m\u001b[36m(RolloutWorker pid=5500)\u001b[0m \n"
     ]
    },
    {
     "name": "stderr",
     "output_type": "stream",
     "text": [
      "2023-05-10 20:22:24,116\tWARNING util.py:67 -- Install gputil for GPU system monitoring.\n",
      "\u001b[2m\u001b[36m(RolloutWorker pid=29104)\u001b[0m 2023-05-10 20:22:31,203\tWARNING env.py:166 -- Your env reset() method appears to take 'seed' or 'return_info' arguments. Note that these are not yet supported in RLlib. Seeding will take place using 'env.seed()' and the info dict will not be returned from reset.\n"
     ]
    },
    {
     "name": "stdout",
     "output_type": "stream",
     "text": [
      "\u001b[2m\u001b[36m(RolloutWorker pid=29104)\u001b[0m \n"
     ]
    },
    {
     "name": "stderr",
     "output_type": "stream",
     "text": [
      "2023-05-10 20:22:32,680\tWARNING util.py:67 -- Install gputil for GPU system monitoring.\n"
     ]
    },
    {
     "name": "stdout",
     "output_type": "stream",
     "text": [
      "C:\\Users\\gabag/ray_results\\PPO_Ant-v4_2023-05-10_20-22-06nffl8q2x\\checkpoint_000100\n",
      "C:\\Users\\gabag/ray_results\\PPO_Ant-v4_2023-05-10_20-22-158q9shfto\\checkpoint_000100\n",
      "C:\\Users\\gabag/ray_results\\PPO_Ant-v4_2023-05-10_20-22-24456o_l1k\\checkpoint_000100\n",
      "C:\\Users\\gabag/ray_results\\PPO_Ant-v4_2023-05-10_20-21-58hhjk24lf\\checkpoint_000100\n"
     ]
    }
   ],
   "source": [
    "FedRLPPOant(3,1e-5,0.9)"
   ]
  },
  {
   "cell_type": "markdown",
   "id": "c1eac065",
   "metadata": {},
   "source": [
    "Private"
   ]
  },
  {
   "cell_type": "code",
   "execution_count": 34,
   "id": "c952fb6c",
   "metadata": {},
   "outputs": [
    {
     "data": {
      "image/png": "[encoded data removed]",
      "text/plain": [
       "<Figure size 432x288 with 1 Axes>"
      ]
     },
     "metadata": {
      "needs_background": "light"
     },
     "output_type": "display_data"
    }
   ],
   "source": [
    "workerpaths = []\n",
    "workerpaths.append(r\"C:\\Users\\gabag/ray_results\\PPO_Ant-v4_2023-05-10_20-22-06nffl8q2x/result.json\")\n",
    "workerpaths.append(r\"C:\\Users\\gabag/ray_results\\PPO_Ant-v4_2023-05-10_20-22-158q9shfto/result.json\")\n",
    "workerpaths.append(r\"C:\\Users\\gabag/ray_results\\PPO_Ant-v4_2023-05-10_20-22-24456o_l1k/result.json\")\n",
    "\n",
    "Xs = []\n",
    "Ys = []\n",
    "\n",
    "for path in workerpaths:\n",
    "    x = []\n",
    "    y = []\n",
    "    ym = []\n",
    "    ym.append(0)\n",
    "    x.append(0)\n",
    "    with open(path) as f:\n",
    "        i = 0\n",
    "        for jsonObj in f:\n",
    "            Dict = json.loads(jsonObj)\n",
    "            x.append(Dict['timesteps_total'])\n",
    "            y.append(Dict['episode_reward_mean'])\n",
    "            ym.append(0.01*y[i]+0.99*ym[i])\n",
    "            i+=1\n",
    "    Xs.append(x)\n",
    "    Ys.append(ym)\n",
    "    \n",
    "for i in range(len(Xs)):\n",
    "    plt.plot(Xs[i],Ys[i])\n",
    "plt.xlabel('Timesteps Total')\n",
    "plt.ylabel('Exponentially Smoothened Reward')\n",
    "plt.show()"
   ]
  },
  {
   "cell_type": "markdown",
   "id": "5bcbbc61",
   "metadata": {},
   "source": [
    "Global"
   ]
  },
  {
   "cell_type": "code",
   "execution_count": 37,
   "id": "279dd002",
   "metadata": {},
   "outputs": [
    {
     "name": "stdout",
     "output_type": "stream",
     "text": [
      "1e-05\n",
      "0.9\n"
     ]
    },
    {
     "data": {
      "image/png": "[encoded data removed]",
      "text/plain": [
       "<Figure size 432x288 with 1 Axes>"
      ]
     },
     "metadata": {
      "needs_background": "light"
     },
     "output_type": "display_data"
    }
   ],
   "source": [
    "path = r\"C:\\Users\\gabag/ray_results\\PPO_Ant-v4_2023-05-10_20-21-58hhjk24lf\\result.json\"\n",
    "\n",
    "with open(path) as f:\n",
    "    for jsonObj in f:\n",
    "        Dict = json.loads(jsonObj)\n",
    "        print(Dict['config']['lr'])\n",
    "        print(Dict['config']['gamma'])\n",
    "        break\n",
    "        \n",
    "x = []\n",
    "y = []\n",
    "ym = []\n",
    "yn = []\n",
    "su = 0\n",
    "yn.append(0)\n",
    "ym.append(0)\n",
    "x.append(0)\n",
    "with open(path) as f:\n",
    "    i = 0\n",
    "    for jsonObj in f:\n",
    "        Dict = json.loads(jsonObj)\n",
    "        x.append(Dict['timesteps_total'])\n",
    "        y.append(Dict['episode_reward_mean'])\n",
    "        su+=y[i]\n",
    "        yn.append(su/(i+1))\n",
    "        ym.append(0.01*y[i]+0.99*ym[i])\n",
    "        i+=1\n",
    "\n",
    "plt.plot(x,yn)\n",
    "plt.xlabel('Timesteps Total')\n",
    "plt.ylabel('Average Reward')\n",
    "plt.show()"
   ]
  },
  {
   "cell_type": "code",
   "execution_count": 8,
   "id": "841e87f7",
   "metadata": {},
   "outputs": [
    {
     "name": "stdout",
     "output_type": "stream",
     "text": [
      "\u001b[2m\u001b[36m(RolloutWorker pid=31068)\u001b[0m \n"
     ]
    },
    {
     "name": "stderr",
     "output_type": "stream",
     "text": [
      "\u001b[2m\u001b[36m(RolloutWorker pid=31068)\u001b[0m 2023-05-10 21:05:44,392\tWARNING env.py:166 -- Your env reset() method appears to take 'seed' or 'return_info' arguments. Note that these are not yet supported in RLlib. Seeding will take place using 'env.seed()' and the info dict will not be returned from reset.\n",
      "2023-05-10 21:05:45,854\tWARNING util.py:67 -- Install gputil for GPU system monitoring.\n",
      "\u001b[2m\u001b[36m(RolloutWorker pid=38104)\u001b[0m 2023-05-10 21:05:53,091\tWARNING env.py:166 -- Your env reset() method appears to take 'seed' or 'return_info' arguments. Note that these are not yet supported in RLlib. Seeding will take place using 'env.seed()' and the info dict will not be returned from reset.\n"
     ]
    },
    {
     "name": "stdout",
     "output_type": "stream",
     "text": [
      "\u001b[2m\u001b[36m(RolloutWorker pid=38104)\u001b[0m \n"
     ]
    },
    {
     "name": "stderr",
     "output_type": "stream",
     "text": [
      "2023-05-10 21:05:54,544\tWARNING util.py:67 -- Install gputil for GPU system monitoring.\n"
     ]
    },
    {
     "name": "stdout",
     "output_type": "stream",
     "text": [
      "\u001b[2m\u001b[36m(RolloutWorker pid=28232)\u001b[0m \n"
     ]
    },
    {
     "name": "stderr",
     "output_type": "stream",
     "text": [
      "\u001b[2m\u001b[36m(RolloutWorker pid=28232)\u001b[0m 2023-05-10 21:06:01,699\tWARNING env.py:166 -- Your env reset() method appears to take 'seed' or 'return_info' arguments. Note that these are not yet supported in RLlib. Seeding will take place using 'env.seed()' and the info dict will not be returned from reset.\n",
      "2023-05-10 21:06:03,354\tWARNING util.py:67 -- Install gputil for GPU system monitoring.\n",
      "\u001b[2m\u001b[36m(RolloutWorker pid=24148)\u001b[0m 2023-05-10 21:06:10,504\tWARNING env.py:166 -- Your env reset() method appears to take 'seed' or 'return_info' arguments. Note that these are not yet supported in RLlib. Seeding will take place using 'env.seed()' and the info dict will not be returned from reset.\n"
     ]
    },
    {
     "name": "stdout",
     "output_type": "stream",
     "text": [
      "\u001b[2m\u001b[36m(RolloutWorker pid=24148)\u001b[0m \n"
     ]
    },
    {
     "name": "stderr",
     "output_type": "stream",
     "text": [
      "2023-05-10 21:06:11,967\tWARNING util.py:67 -- Install gputil for GPU system monitoring.\n"
     ]
    },
    {
     "name": "stdout",
     "output_type": "stream",
     "text": [
      "C:\\Users\\gabag/ray_results\\PPO_HalfCheetah-v4_2023-05-10_21-05-45ztusf44x\\checkpoint_000100\n",
      "C:\\Users\\gabag/ray_results\\PPO_HalfCheetah-v4_2023-05-10_21-05-544c4o4epv\\checkpoint_000100\n",
      "C:\\Users\\gabag/ray_results\\PPO_HalfCheetah-v4_2023-05-10_21-06-034r31wd5o\\checkpoint_000100\n",
      "C:\\Users\\gabag/ray_results\\PPO_HalfCheetah-v4_2023-05-10_21-05-36103rfxdq\\checkpoint_000100\n"
     ]
    }
   ],
   "source": [
    "FedRLPPOhc(3,1e-4,0.9)"
   ]
  },
  {
   "cell_type": "markdown",
   "id": "0529d062",
   "metadata": {},
   "source": [
    "Private"
   ]
  },
  {
   "cell_type": "code",
   "execution_count": 36,
   "id": "9f885d61",
   "metadata": {},
   "outputs": [
    {
     "data": {
      "image/png": "[encoded data removed]",
      "text/plain": [
       "<Figure size 432x288 with 1 Axes>"
      ]
     },
     "metadata": {
      "needs_background": "light"
     },
     "output_type": "display_data"
    }
   ],
   "source": [
    "workerpaths = []\n",
    "workerpaths.append(r\"C:\\Users\\gabag/ray_results\\PPO_HalfCheetah-v4_2023-05-10_21-05-45ztusf44x/result.json\")\n",
    "workerpaths.append(r\"C:\\Users\\gabag/ray_results\\PPO_HalfCheetah-v4_2023-05-10_21-05-544c4o4epv/result.json\")\n",
    "workerpaths.append(r\"C:\\Users\\gabag/ray_results\\PPO_HalfCheetah-v4_2023-05-10_21-06-034r31wd5o/result.json\")\n",
    "\n",
    "Xs = []\n",
    "Ys = []\n",
    "\n",
    "for path in workerpaths:\n",
    "    x = []\n",
    "    y = []\n",
    "    ym = []\n",
    "    ym.append(0)\n",
    "    x.append(0)\n",
    "    with open(path) as f:\n",
    "        i = 0\n",
    "        for jsonObj in f:\n",
    "            Dict = json.loads(jsonObj)\n",
    "            x.append(Dict['timesteps_total'])\n",
    "            y.append(Dict['episode_reward_mean'])\n",
    "            ym.append(0.01*y[i]+0.99*ym[i])\n",
    "            i+=1\n",
    "    Xs.append(x)\n",
    "    Ys.append(ym)\n",
    "    \n",
    "for i in range(len(Xs)):\n",
    "    plt.plot(Xs[i],Ys[i])\n",
    "plt.xlabel('Timesteps Total')\n",
    "plt.ylabel('Exponentially Smoothened Reward')\n",
    "plt.show()"
   ]
  },
  {
   "cell_type": "markdown",
   "id": "100efde4",
   "metadata": {},
   "source": [
    "Global"
   ]
  },
  {
   "cell_type": "code",
   "execution_count": 38,
   "id": "2565f4a0",
   "metadata": {},
   "outputs": [
    {
     "name": "stdout",
     "output_type": "stream",
     "text": [
      "0.0001\n",
      "0.9\n"
     ]
    },
    {
     "data": {
      "image/png": "[encoded data removed]",
      "text/plain": [
       "<Figure size 432x288 with 1 Axes>"
      ]
     },
     "metadata": {
      "needs_background": "light"
     },
     "output_type": "display_data"
    }
   ],
   "source": [
    "path = r\"C:\\Users\\gabag/ray_results\\PPO_HalfCheetah-v4_2023-05-10_21-05-36103rfxdq\\result.json\"\n",
    "\n",
    "with open(path) as f:\n",
    "    for jsonObj in f:\n",
    "        Dict = json.loads(jsonObj)\n",
    "        print(Dict['config']['lr'])\n",
    "        print(Dict['config']['gamma'])\n",
    "        break\n",
    "        \n",
    "x = []\n",
    "y = []\n",
    "ym = []\n",
    "yn = []\n",
    "su = 0\n",
    "yn.append(0)\n",
    "ym.append(0)\n",
    "x.append(0)\n",
    "with open(path) as f:\n",
    "    i = 0\n",
    "    for jsonObj in f:\n",
    "        Dict = json.loads(jsonObj)\n",
    "        x.append(Dict['timesteps_total'])\n",
    "        y.append(Dict['episode_reward_mean'])\n",
    "        su+=y[i]\n",
    "        yn.append(su/(i+1))\n",
    "        ym.append(0.01*y[i]+0.99*ym[i])\n",
    "        i+=1\n",
    "\n",
    "plt.plot(x,yn)\n",
    "plt.xlabel('Timesteps Total')\n",
    "plt.ylabel('Average Reward')\n",
    "plt.show()"
   ]
  }
 ],
 "metadata": {
  "kernelspec": {
   "display_name": "Python 3 (ipykernel)",
   "language": "python",
   "name": "python3"
  },
  "language_info": {
   "codemirror_mode": {
    "name": "ipython",
    "version": 3
   },
   "file_extension": ".py",
   "mimetype": "text/x-python",
   "name": "python",
   "nbconvert_exporter": "python",
   "pygments_lexer": "ipython3",
   "version": "3.9.7"
  }
 },
 "nbformat": 4,
 "nbformat_minor": 5
}
